{
 "cells": [
  {
   "cell_type": "code",
   "execution_count": 3,
   "id": "65d83045-ee30-4d64-9c82-cc10debe4a0a",
   "metadata": {},
   "outputs": [],
   "source": [
    "from hashlib import new\n",
    "import subprocess\n",
    "from requests import head\n",
    "from selenium import webdriver\n",
    "from selenium.webdriver.chrome.service import Service\n",
    "from webdriver_manager.chrome import ChromeDriverManager\n",
    "from selenium.webdriver.common.by import By\n",
    "import csv"
   ]
  },
  {
   "cell_type": "code",
   "execution_count": 4,
   "id": "428c3085",
   "metadata": {},
   "outputs": [
    {
     "name": "stdout",
     "output_type": "stream",
     "text": [
      "\n"
     ]
    },
    {
     "name": "stderr",
     "output_type": "stream",
     "text": [
      "[WDM] - ====== WebDriver manager ======\n",
      "[WDM] - Current google-chrome version is 102.0.5005\n",
      "[WDM] - Get LATEST chromedriver version for 102.0.5005 google-chrome\n",
      "[WDM] - Driver [C:\\Users\\hoang\\.wdm\\drivers\\chromedriver\\win32\\102.0.5005.61\\chromedriver.exe] found in cache\n"
     ]
    }
   ],
   "source": [
    "driver = webdriver.Chrome(service=Service(ChromeDriverManager().install()))\n",
    "driver.get(\"https://www.azlyrics.com/e/eminem.html\")\n",
    "\n",
    "songs = driver.find_elements(By.XPATH, \"//div[@class='listalbum-item']/a\")\n",
    "song_list = []\n",
    "for s in range(len(songs)):\n",
    "    song_list.append(songs[s].text)\n",
    "\n",
    "with open('song_list.csv', 'w', newline='') as f:\n",
    "    writer = csv.writer(f)\n",
    "    for s in range(len(song_list)):\n",
    "        writer.writerow([song_list[s]])"
   ]
  },
  {
   "cell_type": "code",
   "execution_count": null,
   "id": "5f2d04f6",
   "metadata": {},
   "outputs": [],
   "source": []
  }
 ],
 "metadata": {
  "kernelspec": {
   "display_name": "Python 3.10.4 ('ml-WpoHEELb')",
   "language": "python",
   "name": "python3"
  },
  "language_info": {
   "codemirror_mode": {
    "name": "ipython",
    "version": 3
   },
   "file_extension": ".py",
   "mimetype": "text/x-python",
   "name": "python",
   "nbconvert_exporter": "python",
   "pygments_lexer": "ipython3",
   "version": "3.10.4"
  },
  "vscode": {
   "interpreter": {
    "hash": "629617ef846ba47d460e6242c40afd81a87acb5de0c0f9544e4ad4fe937fb97d"
   }
  }
 },
 "nbformat": 4,
 "nbformat_minor": 5
}
