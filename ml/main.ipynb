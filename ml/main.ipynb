{
 "cells": [
  {
   "cell_type": "code",
   "execution_count": null,
   "id": "65d83045-ee30-4d64-9c82-cc10debe4a0a",
   "metadata": {},
   "outputs": [],
   "source": [
    "from hashlib import new\n",
    "from requests import head\n",
    "from selenium import webdriver\n",
    "from selenium.webdriver.chrome.service import Service\n",
    "from webdriver_manager.chrome import ChromeDriverManager\n",
    "from selenium.webdriver.common.by import By\n",
    "import csv\n",
    "import requests"
   ]
  },
  {
   "cell_type": "markdown",
   "id": "c3845145",
   "metadata": {},
   "source": [
    "# Song List Scraper"
   ]
  },
  {
   "cell_type": "code",
   "execution_count": null,
   "id": "428c3085",
   "metadata": {},
   "outputs": [],
   "source": [
    "driver = webdriver.Chrome(service=Service(ChromeDriverManager().install()))\n",
    "driver.get(\"https://www.azlyrics.com/e/eminem.html\")\n",
    "\n",
    "songs = driver.find_elements(By.XPATH, \"//div[@class='listalbum-item']/a\")\n",
    "song_list = []\n",
    "for s in range(len(songs)):\n",
    "    song_list.append(songs[s].text)\n",
    "\n",
    "with open('song_list.csv', 'w', newline='') as f:\n",
    "    writer = csv.writer(f)\n",
    "    for s in range(len(song_list)):\n",
    "        writer.writerow([song_list[s]])"
   ]
  },
  {
   "cell_type": "markdown",
   "id": "5a3347d0",
   "metadata": {},
   "source": [
    "# Get Lyrics\n",
    "\n",
    "From lyrics.ovh API library by exhaustive GET requests\n",
    "\n",
    "To an array of words (with duplicates -> frequency)\n",
    "\n",
    "To a .csv of individual words.\n",
    "\n",
    "And another transformation to pandas table"
   ]
  },
  {
   "cell_type": "code",
   "execution_count": null,
   "id": "5f2d04f6",
   "metadata": {},
   "outputs": [],
   "source": [
    "bow = set()\n",
    "lyrics_res = \"\"\n",
    "\n",
    "with open('song_list_encoded.csv', 'r', newline='') as f:\n",
    "    reader = csv.reader(f)\n",
    "\n",
    "    song_list = set()\n",
    "    # print reader\n",
    "    for row in reader:\n",
    "        song_list.add(row[0])\n",
    "\n",
    "    for song in song_list:\n",
    "        print(\"Retrieving: \" + song)\n",
    "        lyrics_res = requests.get(\n",
    "            'https://api.lyrics.ovh/v1/Eminem/{song}').json()\n",
    "        print(lyrics_res)\n",
    "        try:\n",
    "            bow.add(lyrics_res['lyrics'].split())\n",
    "        except:\n",
    "            print(f\"Lyrics not found for {song}\")\n",
    "            continue\n",
    "\n",
    "with open('bow.csv', 'w') as f:\n",
    "    for word in bow:\n",
    "        f.write(word + \"\\n\")\n",
    "    f.close()"
   ]
  },
  {
   "cell_type": "markdown",
   "id": "6e6a3d52",
   "metadata": {},
   "source": [
    "# Cleaning Data"
   ]
  },
  {
   "cell_type": "code",
   "execution_count": 1,
   "id": "30c94566",
   "metadata": {},
   "outputs": [],
   "source": [
    "!sed -e \"s/('s)//g\" -e \"s/[(''),]//g\" data/bow.csv > data/bow_cleaned.csv"
   ]
  },
  {
   "cell_type": "code",
   "execution_count": 4,
   "id": "dcaf6cc3",
   "metadata": {},
   "outputs": [],
   "source": [
    "!sed -e 's/\"//g' data/bow_cleaned.csv > data/bow_cleaned_2.csv"
   ]
  },
  {
   "cell_type": "code",
   "execution_count": 16,
   "id": "64b0468f",
   "metadata": {},
   "outputs": [],
   "source": [
    "!sed -e 's/[?]//g' data/bow_cleaned.csv > data/bow_cleaned_3.csv"
   ]
  },
  {
   "cell_type": "markdown",
   "id": "3e47b88e",
   "metadata": {},
   "source": [
    "# Build dataframe from cleaned data"
   ]
  },
  {
   "cell_type": "code",
   "execution_count": 17,
   "id": "3841ab80",
   "metadata": {},
   "outputs": [],
   "source": [
    "import pandas as pd\n",
    "import numpy as np\n",
    "\n",
    "# import bow_cleaned as dataframe\n",
    "df = pd.read_csv('data/bow_cleaned.csv', header=None)"
   ]
  },
  {
   "cell_type": "code",
   "execution_count": 19,
   "id": "a8d02dc3",
   "metadata": {},
   "outputs": [],
   "source": [
    "word_freq = df[0].value_counts()\n"
   ]
  },
  {
   "cell_type": "code",
   "execution_count": 39,
   "id": "f8aa0c44",
   "metadata": {},
   "outputs": [
    {
     "data": {
      "text/plain": [
       "I              8814\n",
       "the            8060\n",
       "you            6216\n",
       "a              5808\n",
       "to             5697\n",
       "               ... \n",
       "mufuckin          1\n",
       "Bloodsuckin       1\n",
       "suckubusses       1\n",
       "bouts             1\n",
       "satisfied         1\n",
       "Name: 0, Length: 19437, dtype: int64"
      ]
     },
     "execution_count": 39,
     "metadata": {},
     "output_type": "execute_result"
    }
   ],
   "source": [
    "word_freq"
   ]
  },
  {
   "cell_type": "code",
   "execution_count": 40,
   "id": "1f2cf6c3",
   "metadata": {},
   "outputs": [],
   "source": [
    "word_freq.to_csv('data/word_freq.csv')"
   ]
  },
  {
   "cell_type": "code",
   "execution_count": 41,
   "id": "e7054dd6",
   "metadata": {},
   "outputs": [],
   "source": [
    "word_freq = pd.read_csv('data/word_freq.csv', header=None)"
   ]
  },
  {
   "cell_type": "code",
   "execution_count": 42,
   "id": "8145323d",
   "metadata": {},
   "outputs": [
    {
     "data": {
      "text/html": [
       "<div>\n",
       "<style scoped>\n",
       "    .dataframe tbody tr th:only-of-type {\n",
       "        vertical-align: middle;\n",
       "    }\n",
       "\n",
       "    .dataframe tbody tr th {\n",
       "        vertical-align: top;\n",
       "    }\n",
       "\n",
       "    .dataframe thead th {\n",
       "        text-align: right;\n",
       "    }\n",
       "</style>\n",
       "<table border=\"1\" class=\"dataframe\">\n",
       "  <thead>\n",
       "    <tr style=\"text-align: right;\">\n",
       "      <th></th>\n",
       "      <th>0</th>\n",
       "      <th>1</th>\n",
       "    </tr>\n",
       "  </thead>\n",
       "  <tbody>\n",
       "    <tr>\n",
       "      <th>0</th>\n",
       "      <td>I</td>\n",
       "      <td>8814</td>\n",
       "    </tr>\n",
       "    <tr>\n",
       "      <th>1</th>\n",
       "      <td>the</td>\n",
       "      <td>8060</td>\n",
       "    </tr>\n",
       "    <tr>\n",
       "      <th>2</th>\n",
       "      <td>you</td>\n",
       "      <td>6216</td>\n",
       "    </tr>\n",
       "    <tr>\n",
       "      <th>3</th>\n",
       "      <td>a</td>\n",
       "      <td>5808</td>\n",
       "    </tr>\n",
       "    <tr>\n",
       "      <th>4</th>\n",
       "      <td>to</td>\n",
       "      <td>5697</td>\n",
       "    </tr>\n",
       "    <tr>\n",
       "      <th>...</th>\n",
       "      <td>...</td>\n",
       "      <td>...</td>\n",
       "    </tr>\n",
       "    <tr>\n",
       "      <th>19432</th>\n",
       "      <td>mufuckin</td>\n",
       "      <td>1</td>\n",
       "    </tr>\n",
       "    <tr>\n",
       "      <th>19433</th>\n",
       "      <td>Bloodsuckin</td>\n",
       "      <td>1</td>\n",
       "    </tr>\n",
       "    <tr>\n",
       "      <th>19434</th>\n",
       "      <td>suckubusses</td>\n",
       "      <td>1</td>\n",
       "    </tr>\n",
       "    <tr>\n",
       "      <th>19435</th>\n",
       "      <td>bouts</td>\n",
       "      <td>1</td>\n",
       "    </tr>\n",
       "    <tr>\n",
       "      <th>19436</th>\n",
       "      <td>satisfied</td>\n",
       "      <td>1</td>\n",
       "    </tr>\n",
       "  </tbody>\n",
       "</table>\n",
       "<p>19437 rows × 2 columns</p>\n",
       "</div>"
      ],
      "text/plain": [
       "                 0     1\n",
       "0                I  8814\n",
       "1              the  8060\n",
       "2              you  6216\n",
       "3                a  5808\n",
       "4               to  5697\n",
       "...            ...   ...\n",
       "19432     mufuckin     1\n",
       "19433  Bloodsuckin     1\n",
       "19434  suckubusses     1\n",
       "19435        bouts     1\n",
       "19436    satisfied     1\n",
       "\n",
       "[19437 rows x 2 columns]"
      ]
     },
     "execution_count": 42,
     "metadata": {},
     "output_type": "execute_result"
    }
   ],
   "source": [
    "word_freq"
   ]
  }
 ],
 "metadata": {
  "kernelspec": {
   "display_name": "Python 3.10.5 ('ml-3J0cyaxS')",
   "language": "python",
   "name": "python3"
  },
  "language_info": {
   "codemirror_mode": {
    "name": "ipython",
    "version": 3
   },
   "file_extension": ".py",
   "mimetype": "text/x-python",
   "name": "python",
   "nbconvert_exporter": "python",
   "pygments_lexer": "ipython3",
   "version": "3.10.5"
  },
  "vscode": {
   "interpreter": {
    "hash": "412bb4010c6ed0b77cab74012392fc24970746715c4c38c254d0da3d0b29fb87"
   }
  }
 },
 "nbformat": 4,
 "nbformat_minor": 5
}
