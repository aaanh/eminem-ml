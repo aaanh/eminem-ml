{
 "cells": [
  {
   "cell_type": "code",
   "execution_count": null,
   "id": "65d83045-ee30-4d64-9c82-cc10debe4a0a",
   "metadata": {},
   "outputs": [],
   "source": [
    "from hashlib import new\n",
    "from requests import head\n",
    "from selenium import webdriver\n",
    "from selenium.webdriver.chrome.service import Service\n",
    "from webdriver_manager.chrome import ChromeDriverManager\n",
    "from selenium.webdriver.common.by import By\n",
    "import csv\n",
    "import requests"
   ]
  },
  {
   "cell_type": "markdown",
   "id": "c3845145",
   "metadata": {},
   "source": [
    "# Song List Scraper"
   ]
  },
  {
   "cell_type": "code",
   "execution_count": null,
   "id": "428c3085",
   "metadata": {},
   "outputs": [],
   "source": [
    "driver = webdriver.Chrome(service=Service(ChromeDriverManager().install()))\n",
    "driver.get(\"https://www.azlyrics.com/e/eminem.html\")\n",
    "\n",
    "songs = driver.find_elements(By.XPATH, \"//div[@class='listalbum-item']/a\")\n",
    "song_list = []\n",
    "for s in range(len(songs)):\n",
    "    song_list.append(songs[s].text)\n",
    "\n",
    "with open('song_list.csv', 'w', newline='') as f:\n",
    "    writer = csv.writer(f)\n",
    "    for s in range(len(song_list)):\n",
    "        writer.writerow([song_list[s]])"
   ]
  },
  {
   "cell_type": "markdown",
   "id": "5a3347d0",
   "metadata": {},
   "source": [
    "# Get Lyrics\n",
    "\n",
    "From lyrics.ovh API library by exhaustive GET requests\n",
    "\n",
    "To an array of words (with duplicates -> frequency)\n",
    "\n",
    "To a .csv of individual words.\n",
    "\n",
    "And another transformation to pandas table"
   ]
  },
  {
   "cell_type": "code",
   "execution_count": null,
   "id": "5f2d04f6",
   "metadata": {},
   "outputs": [],
   "source": [
    "bow = set()\n",
    "lyrics_res = \"\"\n",
    "\n",
    "with open('song_list_encoded.csv', 'r', newline='') as f:\n",
    "    reader = csv.reader(f)\n",
    "\n",
    "    song_list = set()\n",
    "    # print reader\n",
    "    for row in reader:\n",
    "        song_list.add(row[0])\n",
    "\n",
    "    for song in song_list:\n",
    "        print(\"Retrieving: \" + song)\n",
    "        lyrics_res = requests.get(\n",
    "            'https://api.lyrics.ovh/v1/Eminem/{song}').json()\n",
    "        print(lyrics_res)\n",
    "        try:\n",
    "            bow.add(lyrics_res['lyrics'].split())\n",
    "        except:\n",
    "            print(f\"Lyrics not found for {song}\")\n",
    "            continue\n",
    "\n",
    "with open('bow.csv', 'w') as f:\n",
    "    for word in bow:\n",
    "        f.write(word + \"\\n\")\n",
    "    f.close()"
   ]
  },
  {
   "cell_type": "markdown",
   "id": "6e6a3d52",
   "metadata": {},
   "source": [
    "# Cleaning Data"
   ]
  },
  {
   "cell_type": "code",
   "execution_count": 2,
   "id": "30c94566",
   "metadata": {},
   "outputs": [],
   "source": [
    "!sed -e \"s/('s)//g\" -e \"s/[(''),]//g\" data/bow.csv > data/bow_cleaned.csv"
   ]
  },
  {
   "cell_type": "code",
   "execution_count": 4,
   "id": "dcaf6cc3",
   "metadata": {},
   "outputs": [],
   "source": [
    "!sed -e 's/\"//g' data/bow_cleaned.csv > data/bow_cleaned_2.csv"
   ]
  },
  {
   "cell_type": "markdown",
   "id": "3e47b88e",
   "metadata": {},
   "source": [
    "# Build dataframe from cleaned data"
   ]
  },
  {
   "cell_type": "markdown",
   "id": "4c6404c2",
   "metadata": {},
   "source": []
  }
 ],
 "metadata": {
  "kernelspec": {
   "display_name": "Python 3.10.5 ('ml-3J0cyaxS')",
   "language": "python",
   "name": "python3"
  },
  "language_info": {
   "codemirror_mode": {
    "name": "ipython",
    "version": 3
   },
   "file_extension": ".py",
   "mimetype": "text/x-python",
   "name": "python",
   "nbconvert_exporter": "python",
   "pygments_lexer": "ipython3",
   "version": "3.10.5"
  },
  "vscode": {
   "interpreter": {
    "hash": "412bb4010c6ed0b77cab74012392fc24970746715c4c38c254d0da3d0b29fb87"
   }
  }
 },
 "nbformat": 4,
 "nbformat_minor": 5
}
